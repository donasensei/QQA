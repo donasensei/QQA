{
 "cells": [
  {
   "cell_type": "code",
   "execution_count": 1,
   "metadata": {},
   "outputs": [],
   "source": [
    "import numpy as np\n",
    "import pandas as pd\n",
    "import matplotlib.pyplot as plt\n",
    "import seaborn as sns\n",
    "import statsmodels.api as sm"
   ]
  },
  {
   "cell_type": "code",
   "execution_count": 2,
   "metadata": {},
   "outputs": [
    {
     "data": {
      "text/plain": [
       "(QuestionId           948\n",
       " UserId              4918\n",
       " AnswerId         1382727\n",
       " IsCorrect              2\n",
       " CorrectAnswer          4\n",
       " AnswerValue            4\n",
       " dtype: int64,\n",
       " Unnamed: 0.1    25\n",
       " Unnamed: 0      25\n",
       " left            24\n",
       " right           25\n",
       " T1_ALR           2\n",
       " T2_CL            2\n",
       " T3_GF            2\n",
       " T4_MQ            2\n",
       " T5_NS            2\n",
       " dtype: int64,\n",
       " Unnamed: 0.1    25\n",
       " Unnamed: 0      25\n",
       " left            25\n",
       " right           24\n",
       " T1_ALR           2\n",
       " T2_CL            2\n",
       " T3_GF            2\n",
       " T4_MQ            2\n",
       " T5_NS            2\n",
       " dtype: int64)"
      ]
     },
     "execution_count": 2,
     "metadata": {},
     "output_type": "execute_result"
    }
   ],
   "source": [
    "train = pd.read_csv('data/train_data/train_task_3_4.csv')\n",
    "validation = pd.read_csv('data/test_data/quality_response_remapped_public.csv')\n",
    "test = pd.read_csv('data/test_data/quality_response_remapped_private.csv')\n",
    "\n",
    "train.nunique(), validation.nunique(), test.nunique()"
   ]
  },
  {
   "cell_type": "code",
   "execution_count": 3,
   "metadata": {},
   "outputs": [
    {
     "data": {
      "text/plain": [
       "(QuestionId       0\n",
       " UserId           0\n",
       " AnswerId         0\n",
       " IsCorrect        0\n",
       " CorrectAnswer    0\n",
       " AnswerValue      0\n",
       " dtype: int64,\n",
       " Unnamed: 0.1    0\n",
       " Unnamed: 0      0\n",
       " left            0\n",
       " right           0\n",
       " T1_ALR          0\n",
       " T2_CL           0\n",
       " T3_GF           0\n",
       " T4_MQ           0\n",
       " T5_NS           0\n",
       " dtype: int64,\n",
       " Unnamed: 0.1    0\n",
       " Unnamed: 0      0\n",
       " left            0\n",
       " right           0\n",
       " T1_ALR          0\n",
       " T2_CL           0\n",
       " T3_GF           0\n",
       " T4_MQ           1\n",
       " T5_NS           0\n",
       " dtype: int64)"
      ]
     },
     "execution_count": 3,
     "metadata": {},
     "output_type": "execute_result"
    }
   ],
   "source": [
    "# Check for missing values\n",
    "train.isnull().sum(), validation.isnull().sum(), test.isnull().sum()"
   ]
  },
  {
   "cell_type": "code",
   "execution_count": 4,
   "metadata": {},
   "outputs": [
    {
     "data": {
      "text/plain": [
       "(AnswerId          1508917\n",
       " DateAnswered       182020\n",
       " Confidence              5\n",
       " GroupId               390\n",
       " QuizId                120\n",
       " SchemeOfWorkId          2\n",
       " dtype: int64,\n",
       " QuestionId    948\n",
       " SubjectId      62\n",
       " dtype: int64,\n",
       " UserId          6148\n",
       " Gender             4\n",
       " DateOfBirth       65\n",
       " PremiumPupil       2\n",
       " dtype: int64)"
      ]
     },
     "execution_count": 4,
     "metadata": {},
     "output_type": "execute_result"
    }
   ],
   "source": [
    "# Load Metadatas\n",
    "answer_meta = pd.read_csv('data/metadata/answer_metadata_task_3_4.csv')\n",
    "question_meta = pd.read_csv('data/metadata/question_metadata_task_3_4.csv')\n",
    "student_meta = pd.read_csv('data/metadata/student_metadata_task_3_4.csv')\n",
    "\n",
    "answer_meta.nunique(), question_meta.nunique(), student_meta.nunique()"
   ]
  },
  {
   "cell_type": "code",
   "execution_count": 5,
   "metadata": {},
   "outputs": [
    {
     "data": {
      "text/plain": [
       "AnswerId                0\n",
       "DateAnswered            0\n",
       "Confidence        1125821\n",
       "GroupId                 0\n",
       "QuizId                  0\n",
       "SchemeOfWorkId     143461\n",
       "dtype: int64"
      ]
     },
     "execution_count": 5,
     "metadata": {},
     "output_type": "execute_result"
    }
   ],
   "source": [
    "# Check Answer Metadata\n",
    "answer_meta.isnull().sum()"
   ]
  },
  {
   "cell_type": "code",
   "execution_count": 6,
   "metadata": {},
   "outputs": [
    {
     "data": {
      "text/plain": [
       "AnswerId          0\n",
       "DateAnswered      0\n",
       "Confidence        0\n",
       "GroupId           0\n",
       "QuizId            0\n",
       "SchemeOfWorkId    0\n",
       "dtype: int64"
      ]
     },
     "execution_count": 6,
     "metadata": {},
     "output_type": "execute_result"
    }
   ],
   "source": [
    "# Remove missing values\n",
    "\n",
    "answer_meta = answer_meta.dropna()\n",
    "answer_meta.isnull().sum()"
   ]
  },
  {
   "cell_type": "code",
   "execution_count": 7,
   "metadata": {},
   "outputs": [
    {
     "data": {
      "text/html": [
       "<div>\n",
       "<style scoped>\n",
       "    .dataframe tbody tr th:only-of-type {\n",
       "        vertical-align: middle;\n",
       "    }\n",
       "\n",
       "    .dataframe tbody tr th {\n",
       "        vertical-align: top;\n",
       "    }\n",
       "\n",
       "    .dataframe thead th {\n",
       "        text-align: right;\n",
       "    }\n",
       "</style>\n",
       "<table border=\"1\" class=\"dataframe\">\n",
       "  <thead>\n",
       "    <tr style=\"text-align: right;\">\n",
       "      <th></th>\n",
       "      <th>QuestionId</th>\n",
       "      <th>UserId</th>\n",
       "      <th>AnswerId</th>\n",
       "      <th>IsCorrect</th>\n",
       "      <th>CorrectAnswer</th>\n",
       "      <th>AnswerValue</th>\n",
       "      <th>Confidence</th>\n",
       "    </tr>\n",
       "  </thead>\n",
       "  <tbody>\n",
       "    <tr>\n",
       "      <th>0</th>\n",
       "      <td>898</td>\n",
       "      <td>2111</td>\n",
       "      <td>280203</td>\n",
       "      <td>1</td>\n",
       "      <td>2</td>\n",
       "      <td>2</td>\n",
       "      <td>NaN</td>\n",
       "    </tr>\n",
       "    <tr>\n",
       "      <th>1</th>\n",
       "      <td>767</td>\n",
       "      <td>3062</td>\n",
       "      <td>55638</td>\n",
       "      <td>1</td>\n",
       "      <td>3</td>\n",
       "      <td>3</td>\n",
       "      <td>25.0</td>\n",
       "    </tr>\n",
       "    <tr>\n",
       "      <th>2</th>\n",
       "      <td>165</td>\n",
       "      <td>1156</td>\n",
       "      <td>386475</td>\n",
       "      <td>1</td>\n",
       "      <td>2</td>\n",
       "      <td>2</td>\n",
       "      <td>NaN</td>\n",
       "    </tr>\n",
       "    <tr>\n",
       "      <th>3</th>\n",
       "      <td>490</td>\n",
       "      <td>1653</td>\n",
       "      <td>997498</td>\n",
       "      <td>1</td>\n",
       "      <td>4</td>\n",
       "      <td>4</td>\n",
       "      <td>NaN</td>\n",
       "    </tr>\n",
       "    <tr>\n",
       "      <th>4</th>\n",
       "      <td>298</td>\n",
       "      <td>3912</td>\n",
       "      <td>578636</td>\n",
       "      <td>1</td>\n",
       "      <td>3</td>\n",
       "      <td>3</td>\n",
       "      <td>NaN</td>\n",
       "    </tr>\n",
       "  </tbody>\n",
       "</table>\n",
       "</div>"
      ],
      "text/plain": [
       "   QuestionId  UserId  AnswerId  IsCorrect  CorrectAnswer  AnswerValue  \\\n",
       "0         898    2111    280203          1              2            2   \n",
       "1         767    3062     55638          1              3            3   \n",
       "2         165    1156    386475          1              2            2   \n",
       "3         490    1653    997498          1              4            4   \n",
       "4         298    3912    578636          1              3            3   \n",
       "\n",
       "   Confidence  \n",
       "0         NaN  \n",
       "1        25.0  \n",
       "2         NaN  \n",
       "3         NaN  \n",
       "4         NaN  "
      ]
     },
     "execution_count": 7,
     "metadata": {},
     "output_type": "execute_result"
    }
   ],
   "source": [
    "# Merge 'Confidence' to train\n",
    "train = pd.merge(train, answer_meta[['AnswerId', 'Confidence']], on='AnswerId', how='left')\n",
    "\n",
    "train.head()"
   ]
  },
  {
   "cell_type": "code",
   "execution_count": 8,
   "metadata": {},
   "outputs": [
    {
     "data": {
      "text/plain": [
       "100.0    153434\n",
       "75.0      85074\n",
       "50.0      51450\n",
       "0.0       27999\n",
       "25.0      16981\n",
       "Name: Confidence, dtype: int64"
      ]
     },
     "execution_count": 8,
     "metadata": {},
     "output_type": "execute_result"
    }
   ],
   "source": [
    "train['Confidence'].value_counts()"
   ]
  },
  {
   "cell_type": "code",
   "execution_count": 9,
   "metadata": {},
   "outputs": [
    {
     "data": {
      "text/plain": [
       "QuestionId       0\n",
       "UserId           0\n",
       "AnswerId         0\n",
       "IsCorrect        0\n",
       "CorrectAnswer    0\n",
       "AnswerValue      0\n",
       "Confidence       0\n",
       "dtype: int64"
      ]
     },
     "execution_count": 9,
     "metadata": {},
     "output_type": "execute_result"
    }
   ],
   "source": [
    "# Replace missing values with mean\n",
    "\n",
    "train['Confidence'] = train['Confidence'].fillna(train['Confidence'].mean())\n",
    "\n",
    "train.isnull().sum()"
   ]
  },
  {
   "cell_type": "code",
   "execution_count": 10,
   "metadata": {},
   "outputs": [
    {
     "data": {
      "text/html": [
       "<div>\n",
       "<style scoped>\n",
       "    .dataframe tbody tr th:only-of-type {\n",
       "        vertical-align: middle;\n",
       "    }\n",
       "\n",
       "    .dataframe tbody tr th {\n",
       "        vertical-align: top;\n",
       "    }\n",
       "\n",
       "    .dataframe thead th {\n",
       "        text-align: right;\n",
       "    }\n",
       "</style>\n",
       "<table border=\"1\" class=\"dataframe\">\n",
       "  <thead>\n",
       "    <tr style=\"text-align: right;\">\n",
       "      <th></th>\n",
       "      <th>QuestionId</th>\n",
       "      <th>UserId</th>\n",
       "      <th>AnswerId</th>\n",
       "      <th>IsCorrect</th>\n",
       "      <th>CorrectAnswer</th>\n",
       "      <th>AnswerValue</th>\n",
       "      <th>Confidence</th>\n",
       "    </tr>\n",
       "  </thead>\n",
       "  <tbody>\n",
       "    <tr>\n",
       "      <th>0</th>\n",
       "      <td>898</td>\n",
       "      <td>2111</td>\n",
       "      <td>280203</td>\n",
       "      <td>1</td>\n",
       "      <td>2</td>\n",
       "      <td>2</td>\n",
       "      <td>73.807615</td>\n",
       "    </tr>\n",
       "    <tr>\n",
       "      <th>1</th>\n",
       "      <td>767</td>\n",
       "      <td>3062</td>\n",
       "      <td>55638</td>\n",
       "      <td>1</td>\n",
       "      <td>3</td>\n",
       "      <td>3</td>\n",
       "      <td>25.000000</td>\n",
       "    </tr>\n",
       "    <tr>\n",
       "      <th>2</th>\n",
       "      <td>165</td>\n",
       "      <td>1156</td>\n",
       "      <td>386475</td>\n",
       "      <td>1</td>\n",
       "      <td>2</td>\n",
       "      <td>2</td>\n",
       "      <td>73.807615</td>\n",
       "    </tr>\n",
       "    <tr>\n",
       "      <th>3</th>\n",
       "      <td>490</td>\n",
       "      <td>1653</td>\n",
       "      <td>997498</td>\n",
       "      <td>1</td>\n",
       "      <td>4</td>\n",
       "      <td>4</td>\n",
       "      <td>73.807615</td>\n",
       "    </tr>\n",
       "    <tr>\n",
       "      <th>4</th>\n",
       "      <td>298</td>\n",
       "      <td>3912</td>\n",
       "      <td>578636</td>\n",
       "      <td>1</td>\n",
       "      <td>3</td>\n",
       "      <td>3</td>\n",
       "      <td>73.807615</td>\n",
       "    </tr>\n",
       "  </tbody>\n",
       "</table>\n",
       "</div>"
      ],
      "text/plain": [
       "   QuestionId  UserId  AnswerId  IsCorrect  CorrectAnswer  AnswerValue  \\\n",
       "0         898    2111    280203          1              2            2   \n",
       "1         767    3062     55638          1              3            3   \n",
       "2         165    1156    386475          1              2            2   \n",
       "3         490    1653    997498          1              4            4   \n",
       "4         298    3912    578636          1              3            3   \n",
       "\n",
       "   Confidence  \n",
       "0   73.807615  \n",
       "1   25.000000  \n",
       "2   73.807615  \n",
       "3   73.807615  \n",
       "4   73.807615  "
      ]
     },
     "execution_count": 10,
     "metadata": {},
     "output_type": "execute_result"
    }
   ],
   "source": [
    "train.head()"
   ]
  },
  {
   "cell_type": "code",
   "execution_count": 11,
   "metadata": {},
   "outputs": [
    {
     "name": "stdout",
     "output_type": "stream",
     "text": [
      "<class 'pandas.core.frame.DataFrame'>\n",
      "Int64Index: 1382727 entries, 0 to 1382726\n",
      "Data columns (total 7 columns):\n",
      " #   Column         Non-Null Count    Dtype  \n",
      "---  ------         --------------    -----  \n",
      " 0   QuestionId     1382727 non-null  int64  \n",
      " 1   UserId         1382727 non-null  int64  \n",
      " 2   AnswerId       1382727 non-null  int64  \n",
      " 3   IsCorrect      1382727 non-null  int64  \n",
      " 4   CorrectAnswer  1382727 non-null  int64  \n",
      " 5   AnswerValue    1382727 non-null  int64  \n",
      " 6   Confidence     1382727 non-null  float64\n",
      "dtypes: float64(1), int64(6)\n",
      "memory usage: 84.4 MB\n"
     ]
    }
   ],
   "source": [
    "train.info()"
   ]
  },
  {
   "cell_type": "code",
   "execution_count": 12,
   "metadata": {},
   "outputs": [
    {
     "data": {
      "text/html": [
       "<div>\n",
       "<style scoped>\n",
       "    .dataframe tbody tr th:only-of-type {\n",
       "        vertical-align: middle;\n",
       "    }\n",
       "\n",
       "    .dataframe tbody tr th {\n",
       "        vertical-align: top;\n",
       "    }\n",
       "\n",
       "    .dataframe thead th {\n",
       "        text-align: right;\n",
       "    }\n",
       "</style>\n",
       "<table border=\"1\" class=\"dataframe\">\n",
       "  <thead>\n",
       "    <tr style=\"text-align: right;\">\n",
       "      <th></th>\n",
       "      <th>QuestionId</th>\n",
       "      <th>UserId</th>\n",
       "      <th>AnswerId</th>\n",
       "      <th>IsCorrect</th>\n",
       "      <th>CorrectAnswer</th>\n",
       "      <th>AnswerValue</th>\n",
       "      <th>Confidence</th>\n",
       "    </tr>\n",
       "  </thead>\n",
       "  <tbody>\n",
       "    <tr>\n",
       "      <th>count</th>\n",
       "      <td>1.382727e+06</td>\n",
       "      <td>1.382727e+06</td>\n",
       "      <td>1.382727e+06</td>\n",
       "      <td>1.382727e+06</td>\n",
       "      <td>1.382727e+06</td>\n",
       "      <td>1.382727e+06</td>\n",
       "      <td>1.382727e+06</td>\n",
       "    </tr>\n",
       "    <tr>\n",
       "      <th>mean</th>\n",
       "      <td>4.682276e+02</td>\n",
       "      <td>3.036283e+03</td>\n",
       "      <td>7.544279e+05</td>\n",
       "      <td>5.373317e-01</td>\n",
       "      <td>2.390497e+00</td>\n",
       "      <td>2.437992e+00</td>\n",
       "      <td>7.380762e+01</td>\n",
       "    </tr>\n",
       "    <tr>\n",
       "      <th>std</th>\n",
       "      <td>2.735797e+02</td>\n",
       "      <td>1.770599e+03</td>\n",
       "      <td>4.356190e+05</td>\n",
       "      <td>4.986046e-01</td>\n",
       "      <td>1.066479e+00</td>\n",
       "      <td>1.067624e+00</td>\n",
       "      <td>1.539051e+01</td>\n",
       "    </tr>\n",
       "    <tr>\n",
       "      <th>min</th>\n",
       "      <td>0.000000e+00</td>\n",
       "      <td>1.000000e+00</td>\n",
       "      <td>0.000000e+00</td>\n",
       "      <td>0.000000e+00</td>\n",
       "      <td>1.000000e+00</td>\n",
       "      <td>1.000000e+00</td>\n",
       "      <td>0.000000e+00</td>\n",
       "    </tr>\n",
       "    <tr>\n",
       "      <th>25%</th>\n",
       "      <td>2.330000e+02</td>\n",
       "      <td>1.515000e+03</td>\n",
       "      <td>3.772935e+05</td>\n",
       "      <td>0.000000e+00</td>\n",
       "      <td>1.000000e+00</td>\n",
       "      <td>2.000000e+00</td>\n",
       "      <td>7.380762e+01</td>\n",
       "    </tr>\n",
       "    <tr>\n",
       "      <th>50%</th>\n",
       "      <td>4.680000e+02</td>\n",
       "      <td>3.009000e+03</td>\n",
       "      <td>7.544530e+05</td>\n",
       "      <td>1.000000e+00</td>\n",
       "      <td>2.000000e+00</td>\n",
       "      <td>2.000000e+00</td>\n",
       "      <td>7.380762e+01</td>\n",
       "    </tr>\n",
       "    <tr>\n",
       "      <th>75%</th>\n",
       "      <td>7.030000e+02</td>\n",
       "      <td>4.565000e+03</td>\n",
       "      <td>1.131772e+06</td>\n",
       "      <td>1.000000e+00</td>\n",
       "      <td>3.000000e+00</td>\n",
       "      <td>3.000000e+00</td>\n",
       "      <td>7.380762e+01</td>\n",
       "    </tr>\n",
       "    <tr>\n",
       "      <th>max</th>\n",
       "      <td>9.470000e+02</td>\n",
       "      <td>6.147000e+03</td>\n",
       "      <td>1.508916e+06</td>\n",
       "      <td>1.000000e+00</td>\n",
       "      <td>4.000000e+00</td>\n",
       "      <td>4.000000e+00</td>\n",
       "      <td>1.000000e+02</td>\n",
       "    </tr>\n",
       "  </tbody>\n",
       "</table>\n",
       "</div>"
      ],
      "text/plain": [
       "         QuestionId        UserId      AnswerId     IsCorrect  CorrectAnswer  \\\n",
       "count  1.382727e+06  1.382727e+06  1.382727e+06  1.382727e+06   1.382727e+06   \n",
       "mean   4.682276e+02  3.036283e+03  7.544279e+05  5.373317e-01   2.390497e+00   \n",
       "std    2.735797e+02  1.770599e+03  4.356190e+05  4.986046e-01   1.066479e+00   \n",
       "min    0.000000e+00  1.000000e+00  0.000000e+00  0.000000e+00   1.000000e+00   \n",
       "25%    2.330000e+02  1.515000e+03  3.772935e+05  0.000000e+00   1.000000e+00   \n",
       "50%    4.680000e+02  3.009000e+03  7.544530e+05  1.000000e+00   2.000000e+00   \n",
       "75%    7.030000e+02  4.565000e+03  1.131772e+06  1.000000e+00   3.000000e+00   \n",
       "max    9.470000e+02  6.147000e+03  1.508916e+06  1.000000e+00   4.000000e+00   \n",
       "\n",
       "        AnswerValue    Confidence  \n",
       "count  1.382727e+06  1.382727e+06  \n",
       "mean   2.437992e+00  7.380762e+01  \n",
       "std    1.067624e+00  1.539051e+01  \n",
       "min    1.000000e+00  0.000000e+00  \n",
       "25%    2.000000e+00  7.380762e+01  \n",
       "50%    2.000000e+00  7.380762e+01  \n",
       "75%    3.000000e+00  7.380762e+01  \n",
       "max    4.000000e+00  1.000000e+02  "
      ]
     },
     "execution_count": 12,
     "metadata": {},
     "output_type": "execute_result"
    }
   ],
   "source": [
    "train.describe()"
   ]
  },
  {
   "cell_type": "code",
   "execution_count": 13,
   "metadata": {},
   "outputs": [
    {
     "data": {
      "text/plain": [
       "QuestionId           948\n",
       "UserId              4918\n",
       "AnswerId         1382727\n",
       "IsCorrect              2\n",
       "CorrectAnswer          4\n",
       "AnswerValue            4\n",
       "Confidence             6\n",
       "dtype: int64"
      ]
     },
     "execution_count": 13,
     "metadata": {},
     "output_type": "execute_result"
    }
   ],
   "source": [
    "train.nunique()"
   ]
  },
  {
   "cell_type": "code",
   "execution_count": 14,
   "metadata": {},
   "outputs": [],
   "source": [
    "# 1. Calculate the Correct Answer Rate (CAR) for each question\n",
    "# Check IsCorrect by UserId\n",
    "\n",
    "score = train.groupby('UserId')['IsCorrect'].mean().reset_index().values\n",
    "score = {user_id: correct_rate for user_id, correct_rate in score}\n",
    "\n",
    "train['CAR'] = train['UserId'].map(score)\n",
    "\n",
    "question_id = train.groupby('QuestionId').apply(lambda gpby_df: gpby_df.name)\n",
    "CAR = train.groupby('QuestionId').apply(lambda gpby_df: (gpby_df['IsCorrect'] - gpby_df['CAR']).abs().mean())\n",
    "CAR = pd.Series(CAR, index=question_id, name='CAR')"
   ]
  },
  {
   "cell_type": "code",
   "execution_count": 15,
   "metadata": {},
   "outputs": [
    {
     "name": "stderr",
     "output_type": "stream",
     "text": [
      "C:\\Users\\dolon\\AppData\\Local\\Temp\\ipykernel_22736\\614288091.py:1: UserWarning: \n",
      "\n",
      "`distplot` is a deprecated function and will be removed in seaborn v0.14.0.\n",
      "\n",
      "Please adapt your code to use either `displot` (a figure-level function with\n",
      "similar flexibility) or `histplot` (an axes-level function for histograms).\n",
      "\n",
      "For a guide to updating your code to use the new functions, please see\n",
      "https://gist.github.com/mwaskom/de44147ed2974457ad6372750bbe5751\n",
      "\n",
      "  sns.distplot(CAR)\n"
     ]
    },
    {
     "data": {
      "text/plain": [
       "<Axes: xlabel='CAR', ylabel='Density'>"
      ]
     },
     "execution_count": 15,
     "metadata": {},
     "output_type": "execute_result"
    },
    {
     "data": {
      "image/png": "[encoded data removed]",
      "text/plain": [
       "<Figure size 640x480 with 1 Axes>"
      ]
     },
     "metadata": {},
     "output_type": "display_data"
    }
   ],
   "source": [
    "sns.distplot(CAR)"
   ]
  },
  {
   "cell_type": "code",
   "execution_count": 25,
   "metadata": {},
   "outputs": [
    {
     "name": "stderr",
     "output_type": "stream",
     "text": [
      "C:\\Users\\dolon\\AppData\\Local\\Temp\\ipykernel_22736\\2104811435.py:10: UserWarning: \n",
      "\n",
      "`distplot` is a deprecated function and will be removed in seaborn v0.14.0.\n",
      "\n",
      "Please adapt your code to use either `displot` (a figure-level function with\n",
      "similar flexibility) or `histplot` (an axes-level function for histograms).\n",
      "\n",
      "For a guide to updating your code to use the new functions, please see\n",
      "https://gist.github.com/mwaskom/de44147ed2974457ad6372750bbe5751\n",
      "\n",
      "  sns.distplot(train['Clearity'])\n"
     ]
    },
    {
     "data": {
      "text/plain": [
       "<Axes: xlabel='Clearity', ylabel='Density'>"
      ]
     },
     "execution_count": 25,
     "metadata": {},
     "output_type": "execute_result"
    },
    {
     "data": {
      "image/png": "[encoded data removed]",
      "text/plain": [
       "<Figure size 640x480 with 1 Axes>"
      ]
     },
     "metadata": {},
     "output_type": "display_data"
    }
   ],
   "source": [
    "# 2. Calculate clearity for each question\n",
    "# Check Confidence by QuestionId\n",
    "\n",
    "question_id = train.groupby('QuestionId').apply(lambda gpby_df: gpby_df.name)\n",
    "clearity = train.groupby('QuestionId').apply(lambda gpby_df: gpby_df['Confidence'].mean())\n",
    "\n",
    "# Merge Clearity to train\n",
    "train['Clearity'] = train['QuestionId'].map(clearity)\n",
    "\n",
    "sns.distplot(train['Clearity'])"
   ]
  },
  {
   "cell_type": "code",
   "execution_count": 26,
   "metadata": {},
   "outputs": [
    {
     "name": "stderr",
     "output_type": "stream",
     "text": [
      "C:\\Users\\dolon\\AppData\\Local\\Temp\\ipykernel_22736\\2445498591.py:14: UserWarning: \n",
      "\n",
      "`distplot` is a deprecated function and will be removed in seaborn v0.14.0.\n",
      "\n",
      "Please adapt your code to use either `displot` (a figure-level function with\n",
      "similar flexibility) or `histplot` (an axes-level function for histograms).\n",
      "\n",
      "For a guide to updating your code to use the new functions, please see\n",
      "https://gist.github.com/mwaskom/de44147ed2974457ad6372750bbe5751\n",
      "\n",
      "  sns.distplot(train['Entropy'])\n"
     ]
    },
    {
     "data": {
      "text/plain": [
       "<Axes: xlabel='Entropy', ylabel='Density'>"
      ]
     },
     "execution_count": 26,
     "metadata": {},
     "output_type": "execute_result"
    },
    {
     "data": {
      "image/png": "[encoded data removed]",
      "text/plain": [
       "<Figure size 640x480 with 1 Axes>"
      ]
     },
     "metadata": {},
     "output_type": "display_data"
    }
   ],
   "source": [
    "# 3. Calculate Entropy for each question\n",
    "# Check IsCorrect by QuestionId\n",
    "\n",
    "from scipy.stats import entropy\n",
    "\n",
    "entropy = train.groupby('QuestionId')['IsCorrect'].apply(\n",
    "    lambda x: entropy(x.value_counts(normalize=True), base=2)\n",
    ")\n",
    "\n",
    "# Merge Entropy to train\n",
    "\n",
    "train['Entropy'] = train['QuestionId'].map(entropy)\n",
    "\n",
    "sns.distplot(train['Entropy'])"
   ]
  },
  {
   "cell_type": "code",
   "execution_count": 33,
   "metadata": {},
   "outputs": [
    {
     "name": "stdout",
     "output_type": "stream",
     "text": [
      "<class 'pandas.core.series.Series'>\n",
      "Int64Index: 948 entries, 0 to 947\n",
      "Series name: UserId\n",
      "Non-Null Count  Dtype\n",
      "--------------  -----\n",
      "948 non-null    int16\n",
      "dtypes: int16(1)\n",
      "memory usage: 9.3 KB\n"
     ]
    }
   ],
   "source": [
    "rank = train.groupby('QuestionId')['UserId'].count().rank(method='first', ascending=False).astype('int16')\n",
    "rank.info()\n",
    "\n",
    "submission = pd.read_csv('submission/template.csv')\n",
    "submission['ranking'] = rank\n",
    "\n",
    "top_20_submission = submission.nlargest(20, 'ranking')"
   ]
  },
  {
   "cell_type": "code",
   "execution_count": 38,
   "metadata": {},
   "outputs": [
    {
     "data": {
      "text/html": [
       "<div>\n",
       "<style scoped>\n",
       "    .dataframe tbody tr th:only-of-type {\n",
       "        vertical-align: middle;\n",
       "    }\n",
       "\n",
       "    .dataframe tbody tr th {\n",
       "        vertical-align: top;\n",
       "    }\n",
       "\n",
       "    .dataframe thead th {\n",
       "        text-align: right;\n",
       "    }\n",
       "</style>\n",
       "<table border=\"1\" class=\"dataframe\">\n",
       "  <thead>\n",
       "    <tr style=\"text-align: right;\">\n",
       "      <th></th>\n",
       "      <th>QuestionId</th>\n",
       "      <th>ranking</th>\n",
       "    </tr>\n",
       "  </thead>\n",
       "  <tbody>\n",
       "    <tr>\n",
       "      <th>0</th>\n",
       "      <td>0</td>\n",
       "      <td>57</td>\n",
       "    </tr>\n",
       "    <tr>\n",
       "      <th>1</th>\n",
       "      <td>1</td>\n",
       "      <td>903</td>\n",
       "    </tr>\n",
       "    <tr>\n",
       "      <th>2</th>\n",
       "      <td>2</td>\n",
       "      <td>260</td>\n",
       "    </tr>\n",
       "    <tr>\n",
       "      <th>3</th>\n",
       "      <td>3</td>\n",
       "      <td>80</td>\n",
       "    </tr>\n",
       "    <tr>\n",
       "      <th>4</th>\n",
       "      <td>4</td>\n",
       "      <td>452</td>\n",
       "    </tr>\n",
       "    <tr>\n",
       "      <th>5</th>\n",
       "      <td>5</td>\n",
       "      <td>631</td>\n",
       "    </tr>\n",
       "    <tr>\n",
       "      <th>6</th>\n",
       "      <td>6</td>\n",
       "      <td>434</td>\n",
       "    </tr>\n",
       "    <tr>\n",
       "      <th>7</th>\n",
       "      <td>7</td>\n",
       "      <td>830</td>\n",
       "    </tr>\n",
       "    <tr>\n",
       "      <th>8</th>\n",
       "      <td>8</td>\n",
       "      <td>250</td>\n",
       "    </tr>\n",
       "    <tr>\n",
       "      <th>9</th>\n",
       "      <td>9</td>\n",
       "      <td>630</td>\n",
       "    </tr>\n",
       "    <tr>\n",
       "      <th>10</th>\n",
       "      <td>10</td>\n",
       "      <td>503</td>\n",
       "    </tr>\n",
       "    <tr>\n",
       "      <th>11</th>\n",
       "      <td>11</td>\n",
       "      <td>350</td>\n",
       "    </tr>\n",
       "    <tr>\n",
       "      <th>12</th>\n",
       "      <td>12</td>\n",
       "      <td>460</td>\n",
       "    </tr>\n",
       "    <tr>\n",
       "      <th>13</th>\n",
       "      <td>13</td>\n",
       "      <td>559</td>\n",
       "    </tr>\n",
       "    <tr>\n",
       "      <th>14</th>\n",
       "      <td>14</td>\n",
       "      <td>466</td>\n",
       "    </tr>\n",
       "    <tr>\n",
       "      <th>15</th>\n",
       "      <td>15</td>\n",
       "      <td>934</td>\n",
       "    </tr>\n",
       "    <tr>\n",
       "      <th>16</th>\n",
       "      <td>16</td>\n",
       "      <td>270</td>\n",
       "    </tr>\n",
       "    <tr>\n",
       "      <th>17</th>\n",
       "      <td>17</td>\n",
       "      <td>622</td>\n",
       "    </tr>\n",
       "    <tr>\n",
       "      <th>18</th>\n",
       "      <td>18</td>\n",
       "      <td>346</td>\n",
       "    </tr>\n",
       "    <tr>\n",
       "      <th>19</th>\n",
       "      <td>19</td>\n",
       "      <td>71</td>\n",
       "    </tr>\n",
       "  </tbody>\n",
       "</table>\n",
       "</div>"
      ],
      "text/plain": [
       "    QuestionId  ranking\n",
       "0            0       57\n",
       "1            1      903\n",
       "2            2      260\n",
       "3            3       80\n",
       "4            4      452\n",
       "5            5      631\n",
       "6            6      434\n",
       "7            7      830\n",
       "8            8      250\n",
       "9            9      630\n",
       "10          10      503\n",
       "11          11      350\n",
       "12          12      460\n",
       "13          13      559\n",
       "14          14      466\n",
       "15          15      934\n",
       "16          16      270\n",
       "17          17      622\n",
       "18          18      346\n",
       "19          19       71"
      ]
     },
     "execution_count": 38,
     "metadata": {},
     "output_type": "execute_result"
    }
   ],
   "source": [
    "submission = pd.read_csv('submission/template.csv')\n",
    "submission['ranking'] = rank\n",
    "\n",
    "submission.sort_values(by=['QuestionId'], ascending=True, inplace=True)\n",
    "submission.head(20)"
   ]
  },
  {
   "cell_type": "code",
   "execution_count": 40,
   "metadata": {},
   "outputs": [],
   "source": [
    "submission.to_csv('submission/submission_final.csv', index=False)"
   ]
  },
  {
   "cell_type": "code",
   "execution_count": 50,
   "metadata": {},
   "outputs": [
    {
     "name": "stdout",
     "output_type": "stream",
     "text": [
      "25\n"
     ]
    },
    {
     "data": {
      "text/html": [
       "<div>\n",
       "<style scoped>\n",
       "    .dataframe tbody tr th:only-of-type {\n",
       "        vertical-align: middle;\n",
       "    }\n",
       "\n",
       "    .dataframe tbody tr th {\n",
       "        vertical-align: top;\n",
       "    }\n",
       "\n",
       "    .dataframe thead th {\n",
       "        text-align: right;\n",
       "    }\n",
       "</style>\n",
       "<table border=\"1\" class=\"dataframe\">\n",
       "  <thead>\n",
       "    <tr style=\"text-align: right;\">\n",
       "      <th></th>\n",
       "      <th>Unnamed: 0.1</th>\n",
       "      <th>Unnamed: 0</th>\n",
       "      <th>left</th>\n",
       "      <th>right</th>\n",
       "      <th>T1_ALR</th>\n",
       "      <th>T2_CL</th>\n",
       "      <th>T3_GF</th>\n",
       "      <th>T4_MQ</th>\n",
       "      <th>T5_NS</th>\n",
       "    </tr>\n",
       "  </thead>\n",
       "  <tbody>\n",
       "    <tr>\n",
       "      <th>0</th>\n",
       "      <td>0</td>\n",
       "      <td>0</td>\n",
       "      <td>909</td>\n",
       "      <td>318</td>\n",
       "      <td>2</td>\n",
       "      <td>2</td>\n",
       "      <td>2</td>\n",
       "      <td>1.0</td>\n",
       "      <td>2</td>\n",
       "    </tr>\n",
       "    <tr>\n",
       "      <th>1</th>\n",
       "      <td>16</td>\n",
       "      <td>16</td>\n",
       "      <td>285</td>\n",
       "      <td>609</td>\n",
       "      <td>2</td>\n",
       "      <td>2</td>\n",
       "      <td>2</td>\n",
       "      <td>2.0</td>\n",
       "      <td>2</td>\n",
       "    </tr>\n",
       "    <tr>\n",
       "      <th>2</th>\n",
       "      <td>48</td>\n",
       "      <td>48</td>\n",
       "      <td>132</td>\n",
       "      <td>271</td>\n",
       "      <td>1</td>\n",
       "      <td>2</td>\n",
       "      <td>2</td>\n",
       "      <td>2.0</td>\n",
       "      <td>1</td>\n",
       "    </tr>\n",
       "    <tr>\n",
       "      <th>3</th>\n",
       "      <td>38</td>\n",
       "      <td>38</td>\n",
       "      <td>704</td>\n",
       "      <td>127</td>\n",
       "      <td>2</td>\n",
       "      <td>2</td>\n",
       "      <td>1</td>\n",
       "      <td>2.0</td>\n",
       "      <td>2</td>\n",
       "    </tr>\n",
       "    <tr>\n",
       "      <th>4</th>\n",
       "      <td>33</td>\n",
       "      <td>33</td>\n",
       "      <td>16</td>\n",
       "      <td>586</td>\n",
       "      <td>1</td>\n",
       "      <td>1</td>\n",
       "      <td>2</td>\n",
       "      <td>2.0</td>\n",
       "      <td>2</td>\n",
       "    </tr>\n",
       "  </tbody>\n",
       "</table>\n",
       "</div>"
      ],
      "text/plain": [
       "   Unnamed: 0.1  Unnamed: 0  left  right  T1_ALR  T2_CL  T3_GF  T4_MQ  T5_NS\n",
       "0             0           0   909    318       2      2      2    1.0      2\n",
       "1            16          16   285    609       2      2      2    2.0      2\n",
       "2            48          48   132    271       1      2      2    2.0      1\n",
       "3            38          38   704    127       2      2      1    2.0      2\n",
       "4            33          33    16    586       1      1      2    2.0      2"
      ]
     },
     "execution_count": 50,
     "metadata": {},
     "output_type": "execute_result"
    }
   ],
   "source": [
    "# load evaluators' score on \"validation\" set\n",
    "eval_validation = pd.read_csv('data/test_data/quality_response_remapped_public.csv')\n",
    "print(len(eval_validation))\n",
    "eval_validation.head()"
   ]
  },
  {
   "cell_type": "code",
   "execution_count": 52,
   "metadata": {},
   "outputs": [
    {
     "data": {
      "text/plain": [
       "<Axes: >"
      ]
     },
     "execution_count": 52,
     "metadata": {},
     "output_type": "execute_result"
    },
    {
     "data": {
      "image/png": "[encoded data removed]",
      "text/plain": [
       "<Figure size 640x480 with 1 Axes>"
      ]
     },
     "metadata": {},
     "output_type": "display_data"
    }
   ],
   "source": [
    "# take the average of 5 evaulators` scores\n",
    "eval_validation['score'] = eval_validation.filter(regex='^T', axis = 1).mean(axis=1)\n",
    "eval_validation['score'].hist()"
   ]
  },
  {
   "cell_type": "code",
   "execution_count": 53,
   "metadata": {},
   "outputs": [
    {
     "data": {
      "text/plain": [
       "<Axes: >"
      ]
     },
     "execution_count": 53,
     "metadata": {},
     "output_type": "execute_result"
    },
    {
     "data": {
      "image/png": "[encoded data removed]",
      "text/plain": [
       "<Figure size 640x480 with 1 Axes>"
      ]
     },
     "metadata": {},
     "output_type": "display_data"
    }
   ],
   "source": [
    "\n",
    "# decide preference\n",
    "import numpy as np\n",
    "def calc_preference(scores):\n",
    "    preference = np.ones(len(scores), dtype=int)\n",
    "\n",
    "    idx_two = scores > 1.5\n",
    "    preference[idx_two] = 2\n",
    "\n",
    "    return list(preference)\n",
    "\n",
    "eval_validation['preference'] = calc_preference(eval_validation['score'])\n",
    "eval_validation['preference'].hist()"
   ]
  },
  {
   "cell_type": "code",
   "execution_count": 54,
   "metadata": {},
   "outputs": [
    {
     "name": "stdout",
     "output_type": "stream",
     "text": [
      "25\n"
     ]
    },
    {
     "data": {
      "text/html": [
       "<div>\n",
       "<style scoped>\n",
       "    .dataframe tbody tr th:only-of-type {\n",
       "        vertical-align: middle;\n",
       "    }\n",
       "\n",
       "    .dataframe tbody tr th {\n",
       "        vertical-align: top;\n",
       "    }\n",
       "\n",
       "    .dataframe thead th {\n",
       "        text-align: right;\n",
       "    }\n",
       "</style>\n",
       "<table border=\"1\" class=\"dataframe\">\n",
       "  <thead>\n",
       "    <tr style=\"text-align: right;\">\n",
       "      <th></th>\n",
       "      <th>Unnamed: 0.1</th>\n",
       "      <th>Unnamed: 0</th>\n",
       "      <th>left</th>\n",
       "      <th>right</th>\n",
       "      <th>T1_ALR</th>\n",
       "      <th>T2_CL</th>\n",
       "      <th>T3_GF</th>\n",
       "      <th>T4_MQ</th>\n",
       "      <th>T5_NS</th>\n",
       "    </tr>\n",
       "  </thead>\n",
       "  <tbody>\n",
       "    <tr>\n",
       "      <th>0</th>\n",
       "      <td>15</td>\n",
       "      <td>15</td>\n",
       "      <td>145</td>\n",
       "      <td>762</td>\n",
       "      <td>2</td>\n",
       "      <td>2</td>\n",
       "      <td>2</td>\n",
       "      <td>2.0</td>\n",
       "      <td>2</td>\n",
       "    </tr>\n",
       "    <tr>\n",
       "      <th>1</th>\n",
       "      <td>31</td>\n",
       "      <td>31</td>\n",
       "      <td>307</td>\n",
       "      <td>208</td>\n",
       "      <td>1</td>\n",
       "      <td>1</td>\n",
       "      <td>1</td>\n",
       "      <td>2.0</td>\n",
       "      <td>1</td>\n",
       "    </tr>\n",
       "    <tr>\n",
       "      <th>2</th>\n",
       "      <td>25</td>\n",
       "      <td>25</td>\n",
       "      <td>278</td>\n",
       "      <td>195</td>\n",
       "      <td>1</td>\n",
       "      <td>1</td>\n",
       "      <td>1</td>\n",
       "      <td>1.0</td>\n",
       "      <td>1</td>\n",
       "    </tr>\n",
       "    <tr>\n",
       "      <th>3</th>\n",
       "      <td>3</td>\n",
       "      <td>3</td>\n",
       "      <td>13</td>\n",
       "      <td>153</td>\n",
       "      <td>2</td>\n",
       "      <td>2</td>\n",
       "      <td>2</td>\n",
       "      <td>2.0</td>\n",
       "      <td>2</td>\n",
       "    </tr>\n",
       "    <tr>\n",
       "      <th>4</th>\n",
       "      <td>40</td>\n",
       "      <td>40</td>\n",
       "      <td>23</td>\n",
       "      <td>100</td>\n",
       "      <td>2</td>\n",
       "      <td>1</td>\n",
       "      <td>1</td>\n",
       "      <td>1.0</td>\n",
       "      <td>1</td>\n",
       "    </tr>\n",
       "  </tbody>\n",
       "</table>\n",
       "</div>"
      ],
      "text/plain": [
       "   Unnamed: 0.1  Unnamed: 0  left  right  T1_ALR  T2_CL  T3_GF  T4_MQ  T5_NS\n",
       "0            15          15   145    762       2      2      2    2.0      2\n",
       "1            31          31   307    208       1      1      1    2.0      1\n",
       "2            25          25   278    195       1      1      1    1.0      1\n",
       "3             3           3    13    153       2      2      2    2.0      2\n",
       "4            40          40    23    100       2      1      1    1.0      1"
      ]
     },
     "execution_count": 54,
     "metadata": {},
     "output_type": "execute_result"
    }
   ],
   "source": [
    "eval_test = pd.read_csv('data/test_data/quality_response_remapped_private.csv')\n",
    "print(len(eval_test))\n",
    "eval_test.head()"
   ]
  },
  {
   "cell_type": "code",
   "execution_count": 55,
   "metadata": {},
   "outputs": [
    {
     "data": {
      "text/plain": [
       "<Axes: >"
      ]
     },
     "execution_count": 55,
     "metadata": {},
     "output_type": "execute_result"
    },
    {
     "data": {
      "image/png": "[encoded data removed]",
      "text/plain": [
       "<Figure size 640x480 with 1 Axes>"
      ]
     },
     "metadata": {},
     "output_type": "display_data"
    }
   ],
   "source": [
    "# take the average of scores by 5 evaulators\n",
    "eval_test['score'] = eval_test.filter(regex='^T', axis = 1).mean(axis=1)\n",
    "eval_test['score'].hist()"
   ]
  },
  {
   "cell_type": "code",
   "execution_count": 63,
   "metadata": {},
   "outputs": [],
   "source": [
    "def evaluate(truth, submission):\n",
    "    # extract ranking\n",
    "    left = list(truth.left)\n",
    "    right = list(truth.right)\n",
    "    # if len(left) != len(right):\n",
    "    # message = 'left and right lengths are not the same'\n",
    "    # sys.exit(message)\n",
    "\n",
    "    submission_left = []\n",
    "    submission_right = []\n",
    "    submission_preference = []\n",
    "    for idx in range(len(left)):\n",
    "        submission_left.append(left[idx])\n",
    "        submission_right.append(right[idx])\n",
    "        ranking_left = submission[submission.QuestionId==left[idx]].ranking.values[0]\n",
    "        ranking_right = submission[submission.QuestionId==right[idx]].ranking.values[0]\n",
    "        preference = 1 if ranking_left < ranking_right else 2\n",
    "        submission_preference.append(preference)\n",
    "    print(submission_preference)\n",
    "\n",
    "    T = []\n",
    "    T.append(list(truth.T1_ALR))\n",
    "    T.append(list(truth.T2_CL))\n",
    "    T.append(list(truth.T3_GF))\n",
    "    T.append(list(truth.T4_MQ))\n",
    "    T.append(list(truth.T5_NS))\n",
    "\n",
    "    for k in range(5):\n",
    "        cnt = 0\n",
    "        for i in range(len(submission_preference)):\n",
    "            if T[k][i] == submission_preference[i]:\n",
    "                cnt += 1\n",
    "        print(cnt / len(submission_preference))"
   ]
  },
  {
   "cell_type": "code",
   "execution_count": 64,
   "metadata": {},
   "outputs": [
    {
     "name": "stdout",
     "output_type": "stream",
     "text": [
      "[1, 1, 2, 1, 1, 1, 1, 1, 1, 1, 1, 2, 2, 2, 2, 1, 1, 1, 1, 1, 1, 1, 1, 1, 1]\n",
      "0.4\n",
      "0.6\n",
      "0.44\n",
      "0.48\n",
      "0.32\n"
     ]
    }
   ],
   "source": [
    "evaluate(eval_validation, submission)"
   ]
  },
  {
   "cell_type": "code",
   "execution_count": 65,
   "metadata": {},
   "outputs": [
    {
     "data": {
      "text/html": [
       "<div>\n",
       "<style scoped>\n",
       "    .dataframe tbody tr th:only-of-type {\n",
       "        vertical-align: middle;\n",
       "    }\n",
       "\n",
       "    .dataframe tbody tr th {\n",
       "        vertical-align: top;\n",
       "    }\n",
       "\n",
       "    .dataframe thead th {\n",
       "        text-align: right;\n",
       "    }\n",
       "</style>\n",
       "<table border=\"1\" class=\"dataframe\">\n",
       "  <thead>\n",
       "    <tr style=\"text-align: right;\">\n",
       "      <th></th>\n",
       "      <th>Unnamed: 0.1</th>\n",
       "      <th>Unnamed: 0</th>\n",
       "      <th>left</th>\n",
       "      <th>right</th>\n",
       "      <th>T1_ALR</th>\n",
       "      <th>T2_CL</th>\n",
       "      <th>T3_GF</th>\n",
       "      <th>T4_MQ</th>\n",
       "      <th>T5_NS</th>\n",
       "      <th>score</th>\n",
       "      <th>preference</th>\n",
       "    </tr>\n",
       "  </thead>\n",
       "  <tbody>\n",
       "    <tr>\n",
       "      <th>0</th>\n",
       "      <td>0</td>\n",
       "      <td>0</td>\n",
       "      <td>909</td>\n",
       "      <td>318</td>\n",
       "      <td>2</td>\n",
       "      <td>2</td>\n",
       "      <td>2</td>\n",
       "      <td>1.0</td>\n",
       "      <td>2</td>\n",
       "      <td>1.8</td>\n",
       "      <td>2</td>\n",
       "    </tr>\n",
       "    <tr>\n",
       "      <th>1</th>\n",
       "      <td>16</td>\n",
       "      <td>16</td>\n",
       "      <td>285</td>\n",
       "      <td>609</td>\n",
       "      <td>2</td>\n",
       "      <td>2</td>\n",
       "      <td>2</td>\n",
       "      <td>2.0</td>\n",
       "      <td>2</td>\n",
       "      <td>2.0</td>\n",
       "      <td>2</td>\n",
       "    </tr>\n",
       "    <tr>\n",
       "      <th>2</th>\n",
       "      <td>48</td>\n",
       "      <td>48</td>\n",
       "      <td>132</td>\n",
       "      <td>271</td>\n",
       "      <td>1</td>\n",
       "      <td>2</td>\n",
       "      <td>2</td>\n",
       "      <td>2.0</td>\n",
       "      <td>1</td>\n",
       "      <td>1.6</td>\n",
       "      <td>2</td>\n",
       "    </tr>\n",
       "    <tr>\n",
       "      <th>3</th>\n",
       "      <td>38</td>\n",
       "      <td>38</td>\n",
       "      <td>704</td>\n",
       "      <td>127</td>\n",
       "      <td>2</td>\n",
       "      <td>2</td>\n",
       "      <td>1</td>\n",
       "      <td>2.0</td>\n",
       "      <td>2</td>\n",
       "      <td>1.8</td>\n",
       "      <td>2</td>\n",
       "    </tr>\n",
       "    <tr>\n",
       "      <th>4</th>\n",
       "      <td>33</td>\n",
       "      <td>33</td>\n",
       "      <td>16</td>\n",
       "      <td>586</td>\n",
       "      <td>1</td>\n",
       "      <td>1</td>\n",
       "      <td>2</td>\n",
       "      <td>2.0</td>\n",
       "      <td>2</td>\n",
       "      <td>1.6</td>\n",
       "      <td>2</td>\n",
       "    </tr>\n",
       "  </tbody>\n",
       "</table>\n",
       "</div>"
      ],
      "text/plain": [
       "   Unnamed: 0.1  Unnamed: 0  left  right  T1_ALR  T2_CL  T3_GF  T4_MQ  T5_NS  \\\n",
       "0             0           0   909    318       2      2      2    1.0      2   \n",
       "1            16          16   285    609       2      2      2    2.0      2   \n",
       "2            48          48   132    271       1      2      2    2.0      1   \n",
       "3            38          38   704    127       2      2      1    2.0      2   \n",
       "4            33          33    16    586       1      1      2    2.0      2   \n",
       "\n",
       "   score  preference  \n",
       "0    1.8           2  \n",
       "1    2.0           2  \n",
       "2    1.6           2  \n",
       "3    1.8           2  \n",
       "4    1.6           2  "
      ]
     },
     "execution_count": 65,
     "metadata": {},
     "output_type": "execute_result"
    }
   ],
   "source": [
    "eval_validation.head()"
   ]
  },
  {
   "cell_type": "code",
   "execution_count": 66,
   "metadata": {},
   "outputs": [
    {
     "data": {
      "text/html": [
       "<div>\n",
       "<style scoped>\n",
       "    .dataframe tbody tr th:only-of-type {\n",
       "        vertical-align: middle;\n",
       "    }\n",
       "\n",
       "    .dataframe tbody tr th {\n",
       "        vertical-align: top;\n",
       "    }\n",
       "\n",
       "    .dataframe thead th {\n",
       "        text-align: right;\n",
       "    }\n",
       "</style>\n",
       "<table border=\"1\" class=\"dataframe\">\n",
       "  <thead>\n",
       "    <tr style=\"text-align: right;\">\n",
       "      <th></th>\n",
       "      <th>Unnamed: 0.1</th>\n",
       "      <th>Unnamed: 0</th>\n",
       "      <th>left</th>\n",
       "      <th>right</th>\n",
       "      <th>T1_ALR</th>\n",
       "      <th>T2_CL</th>\n",
       "      <th>T3_GF</th>\n",
       "      <th>T4_MQ</th>\n",
       "      <th>T5_NS</th>\n",
       "      <th>score</th>\n",
       "    </tr>\n",
       "  </thead>\n",
       "  <tbody>\n",
       "    <tr>\n",
       "      <th>0</th>\n",
       "      <td>15</td>\n",
       "      <td>15</td>\n",
       "      <td>145</td>\n",
       "      <td>762</td>\n",
       "      <td>2</td>\n",
       "      <td>2</td>\n",
       "      <td>2</td>\n",
       "      <td>2.0</td>\n",
       "      <td>2</td>\n",
       "      <td>2.0</td>\n",
       "    </tr>\n",
       "    <tr>\n",
       "      <th>1</th>\n",
       "      <td>31</td>\n",
       "      <td>31</td>\n",
       "      <td>307</td>\n",
       "      <td>208</td>\n",
       "      <td>1</td>\n",
       "      <td>1</td>\n",
       "      <td>1</td>\n",
       "      <td>2.0</td>\n",
       "      <td>1</td>\n",
       "      <td>1.2</td>\n",
       "    </tr>\n",
       "    <tr>\n",
       "      <th>2</th>\n",
       "      <td>25</td>\n",
       "      <td>25</td>\n",
       "      <td>278</td>\n",
       "      <td>195</td>\n",
       "      <td>1</td>\n",
       "      <td>1</td>\n",
       "      <td>1</td>\n",
       "      <td>1.0</td>\n",
       "      <td>1</td>\n",
       "      <td>1.0</td>\n",
       "    </tr>\n",
       "    <tr>\n",
       "      <th>3</th>\n",
       "      <td>3</td>\n",
       "      <td>3</td>\n",
       "      <td>13</td>\n",
       "      <td>153</td>\n",
       "      <td>2</td>\n",
       "      <td>2</td>\n",
       "      <td>2</td>\n",
       "      <td>2.0</td>\n",
       "      <td>2</td>\n",
       "      <td>2.0</td>\n",
       "    </tr>\n",
       "    <tr>\n",
       "      <th>4</th>\n",
       "      <td>40</td>\n",
       "      <td>40</td>\n",
       "      <td>23</td>\n",
       "      <td>100</td>\n",
       "      <td>2</td>\n",
       "      <td>1</td>\n",
       "      <td>1</td>\n",
       "      <td>1.0</td>\n",
       "      <td>1</td>\n",
       "      <td>1.2</td>\n",
       "    </tr>\n",
       "  </tbody>\n",
       "</table>\n",
       "</div>"
      ],
      "text/plain": [
       "   Unnamed: 0.1  Unnamed: 0  left  right  T1_ALR  T2_CL  T3_GF  T4_MQ  T5_NS  \\\n",
       "0            15          15   145    762       2      2      2    2.0      2   \n",
       "1            31          31   307    208       1      1      1    2.0      1   \n",
       "2            25          25   278    195       1      1      1    1.0      1   \n",
       "3             3           3    13    153       2      2      2    2.0      2   \n",
       "4            40          40    23    100       2      1      1    1.0      1   \n",
       "\n",
       "   score  \n",
       "0    2.0  \n",
       "1    1.2  \n",
       "2    1.0  \n",
       "3    2.0  \n",
       "4    1.2  "
      ]
     },
     "execution_count": 66,
     "metadata": {},
     "output_type": "execute_result"
    }
   ],
   "source": [
    "eval_test.head()"
   ]
  },
  {
   "cell_type": "code",
   "execution_count": 67,
   "metadata": {},
   "outputs": [
    {
     "name": "stdout",
     "output_type": "stream",
     "text": [
      "[1, 1, 1, 1, 1, 1, 1, 1, 1, 1, 1, 1, 1, 1, 1, 1, 1, 1, 1, 1, 1, 2, 1, 1, 1]\n",
      "0.44\n",
      "0.56\n",
      "0.64\n",
      "0.48\n",
      "0.52\n"
     ]
    }
   ],
   "source": [
    "evaluate(eval_test, submission)"
   ]
  },
  {
   "cell_type": "code",
   "execution_count": null,
   "metadata": {},
   "outputs": [],
   "source": []
  }
 ],
 "metadata": {
  "kernelspec": {
   "display_name": "Python 3",
   "language": "python",
   "name": "python3"
  },
  "language_info": {
   "codemirror_mode": {
    "name": "ipython",
    "version": 3
   },
   "file_extension": ".py",
   "mimetype": "text/x-python",
   "name": "python",
   "nbconvert_exporter": "python",
   "pygments_lexer": "ipython3",
   "version": "3.9.13"
  },
  "orig_nbformat": 4
 },
 "nbformat": 4,
 "nbformat_minor": 2
}
